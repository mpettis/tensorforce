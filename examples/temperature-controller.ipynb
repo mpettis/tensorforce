{
 "cells": [
  {
   "cell_type": "markdown",
   "metadata": {},
   "source": [
    "# Environment and RL Agent Controller for a Thermostat\n",
    "\n",
    "This is a toy example of a room with a heater.  When the heater is off, the temperature will decay to 0.0, and when it is on, it will rise to 1.0.  The decay and rise is not instantaneous, but has exponential decay behavior in time given by the following formula:\n",
    "\n",
    "    temperature[i + 1] = heater[i] + (temperature[i] - heater[i]) * exp(-1/tau)\n",
    "\n",
    "Where:\n",
    "\n",
    "    temperature[i] is the temperature at timestep i (between 0 and 1).\n",
    "    heater[i] is the applied heater, 0 when not applied, 1 when applied.\n",
    "    tau is the characteristic heat decay constant.\n",
    "\n",
    "So, when the heater is off, the temperature will decay towards 0, and when the heater is on, it will rise towards 1.  When the heater is toggled on/off, it will drift towards 1/0.\n",
    "\n",
    "Here is a sample plot of what the temperature response looks like when the heater is on for a while, then off for a while.  You will see the characteristic rise and decay of the temperature to the response."
   ]
  },
  {
   "cell_type": "code",
   "execution_count": 1,
   "metadata": {},
   "outputs": [
    {
     "data": {
      "text/plain": [
       "<matplotlib.axes._subplots.AxesSubplot at 0x244958e8e48>"
      ]
     },
     "execution_count": 1,
     "metadata": {},
     "output_type": "execute_result"
    },
    {
     "data": {
      "image/png": "[encoded data removed]",
      "text/plain": [
       "<Figure size 432x288 with 1 Axes>"
      ]
     },
     "metadata": {
      "needs_background": "light"
     },
     "output_type": "display_data"
    }
   ],
   "source": [
    "import pandas as pd\n",
    "import matplotlib.pyplot as plt\n",
    "import numpy as np\n",
    "import math\n",
    "\n",
    "## Compute the response for a given action and current temperature\n",
    "def respond(action, current_temp, tau):\n",
    "    return action + (current_temp - action) * math.exp(-1.0/tau)\n",
    "\n",
    "## Actions of a series of on, then off\n",
    "sAction = pd.Series(np.array([1,1,1,1,1,1,1,1,1,1,0,0,0,0,0,0,0,0,0,0]))\n",
    "sResponse = np.zeros(sAction.size)\n",
    "\n",
    "## Update the response with the response to the action\n",
    "for i in range(sAction.size):\n",
    "    ## Get last response\n",
    "    if i == 0:\n",
    "        last_response = 0\n",
    "    else:\n",
    "        last_response = sResponse[i - 1]\n",
    "    sResponse[i] = respond(sAction[i], last_response, 3.0)\n",
    "\n",
    "## Assemble and plot\n",
    "df = pd.DataFrame(list(zip(sAction, sResponse)), columns=['action', 'response'])\n",
    "df.plot()"
   ]
  },
  {
   "cell_type": "markdown",
   "metadata": {},
   "source": [
    "## Goal and Reward\n",
    "The goal here is to make an agent that will take actions that will keep the temperature between 0.4 and 0.6.\n",
    "\n",
    "We make a reward function to reflect our goal.  When the temperature is between 0.4 and 0.6, we set the reward as 0.0.  When the temperature is outside of this band, we set the reward to be the negative distance the temperature is from its closest band.  So if the temperature is 0.1, then the reward is -(0.4 - 0.1) = -0.3, and if it is 0.8, then the reward is -(0.8 - 0.6) = -0.2.\n",
    "\n",
    "Let's chart the reward vs. temperature to show what is meant:"
   ]
  },
  {
   "cell_type": "code",
   "execution_count": 2,
   "metadata": {},
   "outputs": [
    {
     "data": {
      "text/plain": [
       "Text(0.5, 1.0, 'Reward vs. Temperature')"
      ]
     },
     "execution_count": 2,
     "metadata": {},
     "output_type": "execute_result"
    },
    {
     "data": {
      "image/png": "[encoded data removed]",
      "text/plain": [
       "<Figure size 864x288 with 1 Axes>"
      ]
     },
     "metadata": {
      "needs_background": "light"
     },
     "output_type": "display_data"
    }
   ],
   "source": [
    "\n",
    "def reward(temp):\n",
    "        delta = abs(temp - 0.5)\n",
    "        if delta < 0.1:\n",
    "            return 0.0\n",
    "        else:\n",
    "            return -delta + 0.1\n",
    "\n",
    "temps = [x * 0.01 for x in range(100)]\n",
    "rewards = [reward(x) for x in temps]\n",
    "\n",
    "fig=plt.figure(figsize=(12, 4))\n",
    "\n",
    "plt.scatter(temps, rewards)\n",
    "plt.xlabel('Temperature')\n",
    "plt.ylabel('Reward')\n",
    "plt.title('Reward vs. Temperature')"
   ]
  },
  {
   "cell_type": "markdown",
   "metadata": {},
   "source": [
    "# Environment Setup\n",
    "\n",
    "The environment responds to actions.  It is what keeps track of the temperature state of the room, returns the reward for being in that temperature state, and tells you if the episode is over or not (in this case, we just set a max episode length that can happen).\n",
    "\n",
    "Here is the gist of the flow:\n",
    "\n",
    "- Create an environment by calling `Environment.create()`, see below, telling it to use the class you created for this (here, the ThermostatEnvironment) and the max timesteps per episode.  The enviroment is assigned to the name `environment`.\n",
    "- Initialize the environment `environment` by calling `environment.reset()`.  This will do stuff, most importantly, it will initialize the `timestep` attribute to 0.\n",
    "- When you want to take an action on the current state of the environment, you will call `environment.execute(<action-value>)`.  If you want to have the heater off, you call `environment.execute(0)`, and if you want to have the heater on, you call `environment.execute(1)`.\n",
    "- What the `execute()` call returns is a tuple with 3 entries:\n",
    "    - __state__.  In this case, the state is the current temperature that results from taking the action.  If you turn on the heater, the temperature will rise from the previous state, and if the heater was turned off, the temperature will fall from the previous state.  This should be kept as a numpy array, even though it seems like overkill with a single value for the state coming back.  For more complex examples beyond this thermostat, there will be more than 1 component to the state.\n",
    "    - __terminal__.  This is a True/False value.  It is True if the episode terminated.  In this case, that will happen once you exceed the max number of steps you have set.  Otherwise, it will be False, which lets the agent know that it can take further steps.\n",
    "    - __reward__.  This is the reward for taking the action you took.\n",
    "\n",
    "Below, to train the agent, you will have the agent take actions on the environment, and the environment will return these signals so that the agent can self-train to optimize its reward."
   ]
  },
  {
   "cell_type": "code",
   "execution_count": 3,
   "metadata": {},
   "outputs": [],
   "source": [
    "###-----------------------------------------------------------------------------\n",
    "## Imports\n",
    "from tensorforce.environments import Environment\n",
    "from tensorforce.agents import Agent\n",
    "import numpy as np\n",
    "import math\n",
    "\n",
    "\n",
    "\n",
    "###-----------------------------------------------------------------------------\n",
    "### Environment definition\n",
    "class ThermostatEnvironment(Environment):\n",
    "    \"\"\"This class defines a simple thermostat environment.  It is a room with\n",
    "    a heater, and when the heater is on, the room temperature will approach\n",
    "    the max heater temperature (usually 1.0), and when off, the room will\n",
    "    decay to a temperature of 0.0.  The exponential constant that determines\n",
    "    how fast it approaches these temperatures over timesteps is tau.\n",
    "    \"\"\"\n",
    "    def __init__(self):\n",
    "        ## Some initializations.  Will eventually parameterize this in the constructor.\n",
    "        # self.timestep = 0\n",
    "        self.tau = 3.0\n",
    "        #self.current_temp = 0.0\n",
    "        # self.current_temp = np.array([np.random.random(size=(1,))])\n",
    "        self.current_temp = np.random.random(size=(1,))\n",
    "\n",
    "        super().__init__()\n",
    "\n",
    "\n",
    "    def states(self):\n",
    "        return dict(type='float', shape=(1,))\n",
    "\n",
    "\n",
    "    def actions(self):\n",
    "        \"\"\"Action 0 means no heater, temperature approaches 0.0.  Action 1 means\n",
    "        the heater is on and the room temperature approaches 1.0.\n",
    "        \"\"\"\n",
    "        return dict(type='int', num_values=2)\n",
    "\n",
    "\n",
    "    # Optional, should only be defined if environment has a natural maximum\n",
    "    # episode length\n",
    "    def max_episode_timesteps(self):\n",
    "        # return 100\n",
    "        return super().max_episode_timesteps()\n",
    "\n",
    "\n",
    "    # Optional\n",
    "    def close(self):\n",
    "        super().close()\n",
    "\n",
    "\n",
    "    def reset(self):\n",
    "        \"\"\"Reset state.\n",
    "        \"\"\"\n",
    "        # state = np.random.random(size=(1,))\n",
    "        self.timestep = 0\n",
    "        self.current_temp = np.random.random(size=(1,))\n",
    "        return self.current_temp\n",
    "\n",
    "\n",
    "    def response(self, action):\n",
    "        \"\"\"Respond to an action.  When the action is 1, the temperature\n",
    "        exponentially decays approaches 1.0.  When the action is 0,\n",
    "        the current temperature decays towards 0.0.\n",
    "        \"\"\"\n",
    "        # return np.array([action + (self.current_temp - action) * math.exp(-1.0 / self.tau)])\n",
    "        return action + (self.current_temp - action) * math.exp(-1.0 / self.tau)\n",
    "\n",
    "\n",
    "    def reward_compute(self):\n",
    "        \"\"\" The reward here is 0 if the current temp is between 0.4 and 0.6,\n",
    "        else it is distance the temp is away from the 0.4 or 0.6 boundary.\n",
    "        \"\"\"\n",
    "        delta = abs(self.current_temp - 0.5)\n",
    "        if delta < 0.1:\n",
    "            return 0.0\n",
    "        else:\n",
    "            return -delta[0] + 0.1\n",
    "\n",
    "\n",
    "    def execute(self, actions):\n",
    "        ## Check the action is either 0 or 1 -- heater on or off.\n",
    "        assert actions == 0 or actions == 1\n",
    "\n",
    "        ## Increment timestamp\n",
    "        self.timestep += 1\n",
    "        \n",
    "        ## Update the current_temp\n",
    "        self.current_temp = self.response(actions)\n",
    "        \n",
    "        ## Compute the reward\n",
    "        reward = self.reward_compute()\n",
    "\n",
    "        ## The only way to go terminal is to exceed max_episode_timestamp.\n",
    "        ## terminal == 0 means episode is not done\n",
    "        ## terminal == 1 means it is done.\n",
    "        terminal = False\n",
    "        if self.timestep > self.max_episode_timesteps():\n",
    "            terminal = True\n",
    "        \n",
    "        return self.current_temp, terminal, reward\n",
    "\n",
    "###-----------------------------------------------------------------------------\n",
    "### Create the environment\n",
    "###   - Tell it the environment class\n",
    "###   - Set the max timestamps that can happen per episode\n",
    "environment = environment = Environment.create(\n",
    "    environment=ThermostatEnvironment,\n",
    "    max_episode_timesteps=100)\n"
   ]
  },
  {
   "cell_type": "markdown",
   "metadata": {},
   "source": [
    "# Agent setup\n",
    "\n",
    "Here we configure a type of agent to learn against this environment.  There are many agent configurations to choose from, which we will not cover here.  We will not discuss what type of agent to choose here -- we will just take a basic agent to train."
   ]
  },
  {
   "cell_type": "code",
   "execution_count": 4,
   "metadata": {},
   "outputs": [
    {
     "name": "stdout",
     "output_type": "stream",
     "text": [
      "WARNING:tensorflow:From C:\\Users\\matth\\Anaconda3\\envs\\tf2\\lib\\site-packages\\tensorflow_core\\python\\ops\\resource_variable_ops.py:1630: calling BaseResourceVariable.__init__ (from tensorflow.python.ops.resource_variable_ops) with constraint is deprecated and will be removed in a future version.\n",
      "Instructions for updating:\n",
      "If using Keras pass *_constraint arguments to layers.\n",
      "INFO:tensorflow:Graph was finalized.\n",
      "INFO:tensorflow:Running local_init_op.\n",
      "INFO:tensorflow:Done running local_init_op.\n"
     ]
    }
   ],
   "source": [
    "agent = Agent.create(\n",
    "    agent='tensorforce', environment=environment, update=64,\n",
    "    objective='policy_gradient', reward_estimation=dict(horizon=1)\n",
    ")"
   ]
  },
  {
   "cell_type": "markdown",
   "metadata": {},
   "source": [
    "# Check: Untrained Agent Performance\n",
    "\n",
    "Let's see how the untrained agent performs on the environment.  The red horizontal lines are the target bands for the temperature.\n",
    "\n",
    "The agent doesn't take actions to try and get the temperature within the bands."
   ]
  },
  {
   "cell_type": "code",
   "execution_count": 5,
   "metadata": {},
   "outputs": [
    {
     "name": "stderr",
     "output_type": "stream",
     "text": [
      "C:\\Users\\matth\\Anaconda3\\envs\\tf2\\lib\\site-packages\\ipykernel_launcher.py:21: MatplotlibDeprecationWarning: Adding an axes using the same arguments as a previous axes currently reuses the earlier instance.  In a future version, a new instance will always be created and returned.  Meanwhile, this warning can be suppressed, and the future behavior ensured, by passing a unique label to each axes instance.\n"
     ]
    },
    {
     "data": {
      "text/plain": [
       "Text(0.5, 1.0, 'Temperature vs. Timestep')"
      ]
     },
     "execution_count": 5,
     "metadata": {},
     "output_type": "execute_result"
    },
    {
     "data": {
      "image/png": "[encoded data removed]",
      "text/plain": [
       "<Figure size 864x288 with 1 Axes>"
      ]
     },
     "metadata": {
      "needs_background": "light"
     },
     "output_type": "display_data"
    }
   ],
   "source": [
    "### Initialize\n",
    "environment.reset()\n",
    "environment.environment.current_temp = np.array([0.5])\n",
    "states = environment.environment.current_temp\n",
    "\n",
    "internals = agent.initial_internals()\n",
    "terminal = False\n",
    "\n",
    "### Run an episode\n",
    "temp = [environment.environment.current_temp[0]]\n",
    "while not terminal:\n",
    "    actions, internals = agent.act(states=states, internals=internals, evaluation=True)\n",
    "    states, terminal, reward = environment.execute(actions=actions)\n",
    "    temp += [states[0]]\n",
    "    \n",
    "### Plot the run\n",
    "fig=plt.figure(figsize=(12, 4))\n",
    "plt.plot(range(len(temp)), temp)\n",
    "plt.hlines(y=0.4, xmin=0, xmax=99, color='r')\n",
    "plt.hlines(y=0.6, xmin=0, xmax=99, color='r')\n",
    "plt.axes().set_ylim([0.0, 1.0])\n",
    "plt.xlabel('Timestep')\n",
    "plt.ylabel('Temperature')\n",
    "plt.title('Temperature vs. Timestep')"
   ]
  },
  {
   "cell_type": "markdown",
   "metadata": {},
   "source": [
    "# Train the agent\n",
    "\n",
    "Here we train the agent against episodes of interacting with the environment."
   ]
  },
  {
   "cell_type": "code",
   "execution_count": null,
   "metadata": {},
   "outputs": [],
   "source": [
    "# Train for 200 episodes\n",
    "for _ in range(200):\n",
    "    states = environment.reset()\n",
    "    terminal = False\n",
    "    while not terminal:\n",
    "        actions = agent.act(states=states)\n",
    "        states, terminal, reward = environment.execute(actions=actions)\n",
    "        agent.observe(terminal=terminal, reward=reward)"
   ]
  },
  {
   "cell_type": "markdown",
   "metadata": {},
   "source": [
    "# Check: Trained Agent Performance\n",
    "\n",
    "You can plainly see that this is toggling the heater on/off to keep the temperature within the target band!"
   ]
  },
  {
   "cell_type": "code",
   "execution_count": null,
   "metadata": {},
   "outputs": [],
   "source": [
    "### Initialize\n",
    "environment.reset()\n",
    "environment.environment.current_temp = np.array([1.0])\n",
    "states = environment.environment.current_temp\n",
    "\n",
    "internals = agent.initial_internals()\n",
    "terminal = False\n",
    "\n",
    "### Run an episode\n",
    "temp = [environment.environment.current_temp[0]]\n",
    "while not terminal:\n",
    "    actions, internals = agent.act(states=states, internals=internals, evaluation=True)\n",
    "    states, terminal, reward = environment.execute(actions=actions)\n",
    "    temp += [states[0]]\n",
    "\n",
    "### Plot the run\n",
    "fig=plt.figure(figsize=(12, 4))\n",
    "plt.plot(range(len(temp)), temp)\n",
    "plt.hlines(y=0.4, xmin=0, xmax=99, color='r')\n",
    "plt.hlines(y=0.6, xmin=0, xmax=99, color='r')\n",
    "plt.axes().set_ylim([0.0, 1.0])\n",
    "plt.xlabel('Timestep')\n",
    "plt.ylabel('Temperature')\n",
    "plt.title('Temperature vs. Timestep')"
   ]
  }
 ],
 "metadata": {
  "kernelspec": {
   "display_name": "Python 3",
   "language": "python",
   "name": "python3"
  },
  "language_info": {
   "codemirror_mode": {
    "name": "ipython",
    "version": 3
   },
   "file_extension": ".py",
   "mimetype": "text/x-python",
   "name": "python",
   "nbconvert_exporter": "python",
   "pygments_lexer": "ipython3",
   "version": "3.7.6"
  }
 },
 "nbformat": 4,
 "nbformat_minor": 4
}
